{
 "cells": [
  {
   "cell_type": "markdown",
   "id": "63c67c4e",
   "metadata": {},
   "source": [
    "# Stage 2: Improved Data Preprocessing and Modeling with Sagemaker\n",
    "\n",
    "Goal: predict whether or not water is acceptable for human consumption (potability) based on its chemical characteristics.\n",
    "\n",
    "Data source: [Kaggle Water Quality Dataset](https://www.kaggle.com/adityakadiwal/water-potability)"
   ]
  },
  {
   "cell_type": "code",
   "execution_count": 1,
   "id": "442d6d3b",
   "metadata": {},
   "outputs": [],
   "source": [
    "import numpy as np\n",
    "import pandas as pd"
   ]
  },
  {
   "cell_type": "code",
   "execution_count": 2,
   "id": "40d94882",
   "metadata": {},
   "outputs": [],
   "source": [
    "bucket = '<INSERT BUCKET NAME HERE>'\n",
    "input_prefix = 'input'\n",
    "input_key = 'water_potability.csv'\n",
    "container_uri = '<INSERT CUSTOM CONTAINER URI HERE>'\n",
    "\n",
    "region = 'us-west-2'"
   ]
  },
  {
   "cell_type": "code",
   "execution_count": 3,
   "id": "e5dd6a4c",
   "metadata": {},
   "outputs": [],
   "source": [
    "s3_input_uri = 's3://{}/{}/{}'.format(bucket, input_prefix, input_key)"
   ]
  },
  {
   "cell_type": "code",
   "execution_count": 4,
   "id": "32a39ae1",
   "metadata": {},
   "outputs": [
    {
     "data": {
      "text/html": [
       "<div>\n",
       "<style scoped>\n",
       "    .dataframe tbody tr th:only-of-type {\n",
       "        vertical-align: middle;\n",
       "    }\n",
       "\n",
       "    .dataframe tbody tr th {\n",
       "        vertical-align: top;\n",
       "    }\n",
       "\n",
       "    .dataframe thead th {\n",
       "        text-align: right;\n",
       "    }\n",
       "</style>\n",
       "<table border=\"1\" class=\"dataframe\">\n",
       "  <thead>\n",
       "    <tr style=\"text-align: right;\">\n",
       "      <th></th>\n",
       "      <th>ph</th>\n",
       "      <th>Hardness</th>\n",
       "      <th>Solids</th>\n",
       "      <th>Chloramines</th>\n",
       "      <th>Sulfate</th>\n",
       "      <th>Conductivity</th>\n",
       "      <th>Organic_carbon</th>\n",
       "      <th>Trihalomethanes</th>\n",
       "      <th>Turbidity</th>\n",
       "      <th>Potability</th>\n",
       "    </tr>\n",
       "  </thead>\n",
       "  <tbody>\n",
       "    <tr>\n",
       "      <th>0</th>\n",
       "      <td>NaN</td>\n",
       "      <td>204.890455</td>\n",
       "      <td>20791.318981</td>\n",
       "      <td>7.300212</td>\n",
       "      <td>368.516441</td>\n",
       "      <td>564.308654</td>\n",
       "      <td>10.379783</td>\n",
       "      <td>86.990970</td>\n",
       "      <td>2.963135</td>\n",
       "      <td>0</td>\n",
       "    </tr>\n",
       "    <tr>\n",
       "      <th>1</th>\n",
       "      <td>3.716080</td>\n",
       "      <td>129.422921</td>\n",
       "      <td>18630.057858</td>\n",
       "      <td>6.635246</td>\n",
       "      <td>NaN</td>\n",
       "      <td>592.885359</td>\n",
       "      <td>15.180013</td>\n",
       "      <td>56.329076</td>\n",
       "      <td>4.500656</td>\n",
       "      <td>0</td>\n",
       "    </tr>\n",
       "    <tr>\n",
       "      <th>2</th>\n",
       "      <td>8.099124</td>\n",
       "      <td>224.236259</td>\n",
       "      <td>19909.541732</td>\n",
       "      <td>9.275884</td>\n",
       "      <td>NaN</td>\n",
       "      <td>418.606213</td>\n",
       "      <td>16.868637</td>\n",
       "      <td>66.420093</td>\n",
       "      <td>3.055934</td>\n",
       "      <td>0</td>\n",
       "    </tr>\n",
       "    <tr>\n",
       "      <th>3</th>\n",
       "      <td>8.316766</td>\n",
       "      <td>214.373394</td>\n",
       "      <td>22018.417441</td>\n",
       "      <td>8.059332</td>\n",
       "      <td>356.886136</td>\n",
       "      <td>363.266516</td>\n",
       "      <td>18.436524</td>\n",
       "      <td>100.341674</td>\n",
       "      <td>4.628771</td>\n",
       "      <td>0</td>\n",
       "    </tr>\n",
       "    <tr>\n",
       "      <th>4</th>\n",
       "      <td>9.092223</td>\n",
       "      <td>181.101509</td>\n",
       "      <td>17978.986339</td>\n",
       "      <td>6.546600</td>\n",
       "      <td>310.135738</td>\n",
       "      <td>398.410813</td>\n",
       "      <td>11.558279</td>\n",
       "      <td>31.997993</td>\n",
       "      <td>4.075075</td>\n",
       "      <td>0</td>\n",
       "    </tr>\n",
       "  </tbody>\n",
       "</table>\n",
       "</div>"
      ],
      "text/plain": [
       "         ph    Hardness        Solids  Chloramines     Sulfate  Conductivity  \\\n",
       "0       NaN  204.890455  20791.318981     7.300212  368.516441    564.308654   \n",
       "1  3.716080  129.422921  18630.057858     6.635246         NaN    592.885359   \n",
       "2  8.099124  224.236259  19909.541732     9.275884         NaN    418.606213   \n",
       "3  8.316766  214.373394  22018.417441     8.059332  356.886136    363.266516   \n",
       "4  9.092223  181.101509  17978.986339     6.546600  310.135738    398.410813   \n",
       "\n",
       "   Organic_carbon  Trihalomethanes  Turbidity  Potability  \n",
       "0       10.379783        86.990970   2.963135           0  \n",
       "1       15.180013        56.329076   4.500656           0  \n",
       "2       16.868637        66.420093   3.055934           0  \n",
       "3       18.436524       100.341674   4.628771           0  \n",
       "4       11.558279        31.997993   4.075075           0  "
      ]
     },
     "execution_count": 4,
     "metadata": {},
     "output_type": "execute_result"
    }
   ],
   "source": [
    "df = pd.read_csv(s3_input_uri)\n",
    "df.head()"
   ]
  },
  {
   "cell_type": "code",
   "execution_count": 5,
   "id": "888155a6",
   "metadata": {},
   "outputs": [],
   "source": [
    "cols = df.columns"
   ]
  },
  {
   "cell_type": "code",
   "execution_count": 6,
   "id": "47447707",
   "metadata": {},
   "outputs": [
    {
     "data": {
      "text/plain": [
       "ph                 491\n",
       "Hardness             0\n",
       "Solids               0\n",
       "Chloramines          0\n",
       "Sulfate            781\n",
       "Conductivity         0\n",
       "Organic_carbon       0\n",
       "Trihalomethanes    162\n",
       "Turbidity            0\n",
       "Potability           0\n",
       "dtype: int64"
      ]
     },
     "execution_count": 6,
     "metadata": {},
     "output_type": "execute_result"
    }
   ],
   "source": [
    "df.isnull().sum()"
   ]
  },
  {
   "cell_type": "code",
   "execution_count": 7,
   "id": "bf341e99",
   "metadata": {},
   "outputs": [
    {
     "data": {
      "text/plain": [
       "(3276, 10)"
      ]
     },
     "execution_count": 7,
     "metadata": {},
     "output_type": "execute_result"
    }
   ],
   "source": [
    "df.shape"
   ]
  },
  {
   "cell_type": "code",
   "execution_count": 8,
   "id": "162b8a07",
   "metadata": {},
   "outputs": [
    {
     "data": {
      "text/plain": [
       "0    1998\n",
       "1    1278\n",
       "Name: Potability, dtype: int64"
      ]
     },
     "execution_count": 8,
     "metadata": {},
     "output_type": "execute_result"
    }
   ],
   "source": [
    "df.Potability.value_counts()"
   ]
  },
  {
   "cell_type": "code",
   "execution_count": 9,
   "id": "6367a5db",
   "metadata": {},
   "outputs": [],
   "source": [
    "df_notpotable = df[df['Potability'] == 0]\n",
    "df_potable = df[df['Potability'] == 1]"
   ]
  },
  {
   "cell_type": "code",
   "execution_count": 10,
   "id": "23a71e77",
   "metadata": {},
   "outputs": [
    {
     "data": {
      "text/plain": [
       "ph                 314\n",
       "Hardness             0\n",
       "Solids               0\n",
       "Chloramines          0\n",
       "Sulfate            488\n",
       "Conductivity         0\n",
       "Organic_carbon       0\n",
       "Trihalomethanes    107\n",
       "Turbidity            0\n",
       "Potability           0\n",
       "dtype: int64"
      ]
     },
     "execution_count": 10,
     "metadata": {},
     "output_type": "execute_result"
    }
   ],
   "source": [
    "df_notpotable.isnull().sum()"
   ]
  },
  {
   "cell_type": "code",
   "execution_count": 11,
   "id": "90815da7",
   "metadata": {},
   "outputs": [
    {
     "data": {
      "text/plain": [
       "ph                 177\n",
       "Hardness             0\n",
       "Solids               0\n",
       "Chloramines          0\n",
       "Sulfate            293\n",
       "Conductivity         0\n",
       "Organic_carbon       0\n",
       "Trihalomethanes     55\n",
       "Turbidity            0\n",
       "Potability           0\n",
       "dtype: int64"
      ]
     },
     "execution_count": 11,
     "metadata": {},
     "output_type": "execute_result"
    }
   ],
   "source": [
    "df_potable.isnull().sum()"
   ]
  },
  {
   "cell_type": "markdown",
   "id": "d676f0c7",
   "metadata": {},
   "source": [
    "<h3>Imputing</h3>\n",
    "Note that this transformation does not need to be part of the pipeline that gets deployed to the inference endpoint because the data that is coming into the endpoint should not have any missing values."
   ]
  },
  {
   "cell_type": "code",
   "execution_count": 12,
   "id": "927c09e1",
   "metadata": {},
   "outputs": [],
   "source": [
    "from sklearn.impute import SimpleImputer\n",
    "\n",
    "impute = SimpleImputer(missing_values=np.nan, strategy='mean')\n",
    "\n",
    "df_notpotable = pd.DataFrame(impute.fit_transform(df_notpotable), columns = cols)\n",
    "\n",
    "df_potable = pd.DataFrame(impute.fit_transform(df_potable), columns = cols)"
   ]
  },
  {
   "cell_type": "code",
   "execution_count": 13,
   "id": "76f66024",
   "metadata": {},
   "outputs": [
    {
     "data": {
      "text/plain": [
       "ph                 0\n",
       "Hardness           0\n",
       "Solids             0\n",
       "Chloramines        0\n",
       "Sulfate            0\n",
       "Conductivity       0\n",
       "Organic_carbon     0\n",
       "Trihalomethanes    0\n",
       "Turbidity          0\n",
       "Potability         0\n",
       "dtype: int64"
      ]
     },
     "execution_count": 13,
     "metadata": {},
     "output_type": "execute_result"
    }
   ],
   "source": [
    "df_notpotable.isnull().sum()"
   ]
  },
  {
   "cell_type": "code",
   "execution_count": 14,
   "id": "7e5726d3",
   "metadata": {},
   "outputs": [
    {
     "data": {
      "text/plain": [
       "ph                 0\n",
       "Hardness           0\n",
       "Solids             0\n",
       "Chloramines        0\n",
       "Sulfate            0\n",
       "Conductivity       0\n",
       "Organic_carbon     0\n",
       "Trihalomethanes    0\n",
       "Turbidity          0\n",
       "Potability         0\n",
       "dtype: int64"
      ]
     },
     "execution_count": 14,
     "metadata": {},
     "output_type": "execute_result"
    }
   ],
   "source": [
    "df_potable.isnull().sum()"
   ]
  },
  {
   "cell_type": "code",
   "execution_count": 15,
   "id": "56ed61a7",
   "metadata": {},
   "outputs": [],
   "source": [
    "df = pd.concat([df_notpotable, df_potable])"
   ]
  },
  {
   "cell_type": "code",
   "execution_count": 16,
   "id": "0a3130e4",
   "metadata": {},
   "outputs": [
    {
     "data": {
      "text/html": [
       "<div>\n",
       "<style scoped>\n",
       "    .dataframe tbody tr th:only-of-type {\n",
       "        vertical-align: middle;\n",
       "    }\n",
       "\n",
       "    .dataframe tbody tr th {\n",
       "        vertical-align: top;\n",
       "    }\n",
       "\n",
       "    .dataframe thead th {\n",
       "        text-align: right;\n",
       "    }\n",
       "</style>\n",
       "<table border=\"1\" class=\"dataframe\">\n",
       "  <thead>\n",
       "    <tr style=\"text-align: right;\">\n",
       "      <th></th>\n",
       "      <th>ph</th>\n",
       "      <th>Hardness</th>\n",
       "      <th>Solids</th>\n",
       "      <th>Chloramines</th>\n",
       "      <th>Sulfate</th>\n",
       "      <th>Conductivity</th>\n",
       "      <th>Organic_carbon</th>\n",
       "      <th>Trihalomethanes</th>\n",
       "      <th>Turbidity</th>\n",
       "      <th>Potability</th>\n",
       "    </tr>\n",
       "  </thead>\n",
       "  <tbody>\n",
       "    <tr>\n",
       "      <th>0</th>\n",
       "      <td>7.085378</td>\n",
       "      <td>204.890455</td>\n",
       "      <td>20791.318981</td>\n",
       "      <td>7.300212</td>\n",
       "      <td>368.516441</td>\n",
       "      <td>564.308654</td>\n",
       "      <td>10.379783</td>\n",
       "      <td>86.990970</td>\n",
       "      <td>2.963135</td>\n",
       "      <td>0.0</td>\n",
       "    </tr>\n",
       "    <tr>\n",
       "      <th>1</th>\n",
       "      <td>3.716080</td>\n",
       "      <td>129.422921</td>\n",
       "      <td>18630.057858</td>\n",
       "      <td>6.635246</td>\n",
       "      <td>334.564290</td>\n",
       "      <td>592.885359</td>\n",
       "      <td>15.180013</td>\n",
       "      <td>56.329076</td>\n",
       "      <td>4.500656</td>\n",
       "      <td>0.0</td>\n",
       "    </tr>\n",
       "    <tr>\n",
       "      <th>2</th>\n",
       "      <td>8.099124</td>\n",
       "      <td>224.236259</td>\n",
       "      <td>19909.541732</td>\n",
       "      <td>9.275884</td>\n",
       "      <td>334.564290</td>\n",
       "      <td>418.606213</td>\n",
       "      <td>16.868637</td>\n",
       "      <td>66.420093</td>\n",
       "      <td>3.055934</td>\n",
       "      <td>0.0</td>\n",
       "    </tr>\n",
       "    <tr>\n",
       "      <th>3</th>\n",
       "      <td>8.316766</td>\n",
       "      <td>214.373394</td>\n",
       "      <td>22018.417441</td>\n",
       "      <td>8.059332</td>\n",
       "      <td>356.886136</td>\n",
       "      <td>363.266516</td>\n",
       "      <td>18.436524</td>\n",
       "      <td>100.341674</td>\n",
       "      <td>4.628771</td>\n",
       "      <td>0.0</td>\n",
       "    </tr>\n",
       "    <tr>\n",
       "      <th>4</th>\n",
       "      <td>9.092223</td>\n",
       "      <td>181.101509</td>\n",
       "      <td>17978.986339</td>\n",
       "      <td>6.546600</td>\n",
       "      <td>310.135738</td>\n",
       "      <td>398.410813</td>\n",
       "      <td>11.558279</td>\n",
       "      <td>31.997993</td>\n",
       "      <td>4.075075</td>\n",
       "      <td>0.0</td>\n",
       "    </tr>\n",
       "  </tbody>\n",
       "</table>\n",
       "</div>"
      ],
      "text/plain": [
       "         ph    Hardness        Solids  Chloramines     Sulfate  Conductivity  \\\n",
       "0  7.085378  204.890455  20791.318981     7.300212  368.516441    564.308654   \n",
       "1  3.716080  129.422921  18630.057858     6.635246  334.564290    592.885359   \n",
       "2  8.099124  224.236259  19909.541732     9.275884  334.564290    418.606213   \n",
       "3  8.316766  214.373394  22018.417441     8.059332  356.886136    363.266516   \n",
       "4  9.092223  181.101509  17978.986339     6.546600  310.135738    398.410813   \n",
       "\n",
       "   Organic_carbon  Trihalomethanes  Turbidity  Potability  \n",
       "0       10.379783        86.990970   2.963135         0.0  \n",
       "1       15.180013        56.329076   4.500656         0.0  \n",
       "2       16.868637        66.420093   3.055934         0.0  \n",
       "3       18.436524       100.341674   4.628771         0.0  \n",
       "4       11.558279        31.997993   4.075075         0.0  "
      ]
     },
     "execution_count": 16,
     "metadata": {},
     "output_type": "execute_result"
    }
   ],
   "source": [
    "df.head()"
   ]
  },
  {
   "cell_type": "code",
   "execution_count": 17,
   "id": "e28a6d27",
   "metadata": {},
   "outputs": [],
   "source": [
    "df = df.sample(frac = 1)"
   ]
  },
  {
   "cell_type": "code",
   "execution_count": 18,
   "id": "9179491f",
   "metadata": {},
   "outputs": [
    {
     "data": {
      "text/html": [
       "<div>\n",
       "<style scoped>\n",
       "    .dataframe tbody tr th:only-of-type {\n",
       "        vertical-align: middle;\n",
       "    }\n",
       "\n",
       "    .dataframe tbody tr th {\n",
       "        vertical-align: top;\n",
       "    }\n",
       "\n",
       "    .dataframe thead th {\n",
       "        text-align: right;\n",
       "    }\n",
       "</style>\n",
       "<table border=\"1\" class=\"dataframe\">\n",
       "  <thead>\n",
       "    <tr style=\"text-align: right;\">\n",
       "      <th></th>\n",
       "      <th>ph</th>\n",
       "      <th>Hardness</th>\n",
       "      <th>Solids</th>\n",
       "      <th>Chloramines</th>\n",
       "      <th>Sulfate</th>\n",
       "      <th>Conductivity</th>\n",
       "      <th>Organic_carbon</th>\n",
       "      <th>Trihalomethanes</th>\n",
       "      <th>Turbidity</th>\n",
       "      <th>Potability</th>\n",
       "    </tr>\n",
       "  </thead>\n",
       "  <tbody>\n",
       "    <tr>\n",
       "      <th>847</th>\n",
       "      <td>5.429335</td>\n",
       "      <td>183.439383</td>\n",
       "      <td>15265.407564</td>\n",
       "      <td>5.714731</td>\n",
       "      <td>394.001195</td>\n",
       "      <td>446.879149</td>\n",
       "      <td>17.581557</td>\n",
       "      <td>50.266951</td>\n",
       "      <td>3.081736</td>\n",
       "      <td>1.0</td>\n",
       "    </tr>\n",
       "    <tr>\n",
       "      <th>1667</th>\n",
       "      <td>7.085378</td>\n",
       "      <td>217.944979</td>\n",
       "      <td>37820.047327</td>\n",
       "      <td>8.299339</td>\n",
       "      <td>334.564290</td>\n",
       "      <td>367.570082</td>\n",
       "      <td>15.421034</td>\n",
       "      <td>36.446614</td>\n",
       "      <td>2.994780</td>\n",
       "      <td>0.0</td>\n",
       "    </tr>\n",
       "    <tr>\n",
       "      <th>1866</th>\n",
       "      <td>7.085378</td>\n",
       "      <td>188.445469</td>\n",
       "      <td>28791.614416</td>\n",
       "      <td>8.040356</td>\n",
       "      <td>382.009477</td>\n",
       "      <td>422.234861</td>\n",
       "      <td>10.575690</td>\n",
       "      <td>63.235365</td>\n",
       "      <td>3.228379</td>\n",
       "      <td>0.0</td>\n",
       "    </tr>\n",
       "    <tr>\n",
       "      <th>1244</th>\n",
       "      <td>5.910540</td>\n",
       "      <td>241.140746</td>\n",
       "      <td>25721.833866</td>\n",
       "      <td>4.806759</td>\n",
       "      <td>385.887468</td>\n",
       "      <td>462.612530</td>\n",
       "      <td>14.316821</td>\n",
       "      <td>60.590359</td>\n",
       "      <td>4.007508</td>\n",
       "      <td>1.0</td>\n",
       "    </tr>\n",
       "    <tr>\n",
       "      <th>406</th>\n",
       "      <td>6.361667</td>\n",
       "      <td>175.043999</td>\n",
       "      <td>25833.851713</td>\n",
       "      <td>8.243781</td>\n",
       "      <td>333.947107</td>\n",
       "      <td>302.190710</td>\n",
       "      <td>10.558576</td>\n",
       "      <td>70.107693</td>\n",
       "      <td>3.681765</td>\n",
       "      <td>0.0</td>\n",
       "    </tr>\n",
       "  </tbody>\n",
       "</table>\n",
       "</div>"
      ],
      "text/plain": [
       "            ph    Hardness        Solids  Chloramines     Sulfate  \\\n",
       "847   5.429335  183.439383  15265.407564     5.714731  394.001195   \n",
       "1667  7.085378  217.944979  37820.047327     8.299339  334.564290   \n",
       "1866  7.085378  188.445469  28791.614416     8.040356  382.009477   \n",
       "1244  5.910540  241.140746  25721.833866     4.806759  385.887468   \n",
       "406   6.361667  175.043999  25833.851713     8.243781  333.947107   \n",
       "\n",
       "      Conductivity  Organic_carbon  Trihalomethanes  Turbidity  Potability  \n",
       "847     446.879149       17.581557        50.266951   3.081736         1.0  \n",
       "1667    367.570082       15.421034        36.446614   2.994780         0.0  \n",
       "1866    422.234861       10.575690        63.235365   3.228379         0.0  \n",
       "1244    462.612530       14.316821        60.590359   4.007508         1.0  \n",
       "406     302.190710       10.558576        70.107693   3.681765         0.0  "
      ]
     },
     "execution_count": 18,
     "metadata": {},
     "output_type": "execute_result"
    }
   ],
   "source": [
    "df.head()"
   ]
  },
  {
   "cell_type": "code",
   "execution_count": 19,
   "id": "a8e9721f",
   "metadata": {},
   "outputs": [],
   "source": [
    "x = df.drop('Potability', axis = 1)\n",
    "y = df['Potability']"
   ]
  },
  {
   "cell_type": "markdown",
   "id": "519ac6dd",
   "metadata": {},
   "source": [
    "<h3>Scaling (normalization)</h3>"
   ]
  },
  {
   "cell_type": "code",
   "execution_count": 20,
   "id": "595ea2d2",
   "metadata": {},
   "outputs": [
    {
     "data": {
      "text/html": [
       "<div>\n",
       "<style scoped>\n",
       "    .dataframe tbody tr th:only-of-type {\n",
       "        vertical-align: middle;\n",
       "    }\n",
       "\n",
       "    .dataframe tbody tr th {\n",
       "        vertical-align: top;\n",
       "    }\n",
       "\n",
       "    .dataframe thead th {\n",
       "        text-align: right;\n",
       "    }\n",
       "</style>\n",
       "<table border=\"1\" class=\"dataframe\">\n",
       "  <thead>\n",
       "    <tr style=\"text-align: right;\">\n",
       "      <th></th>\n",
       "      <th>0</th>\n",
       "      <th>1</th>\n",
       "      <th>2</th>\n",
       "      <th>3</th>\n",
       "      <th>4</th>\n",
       "      <th>5</th>\n",
       "      <th>6</th>\n",
       "      <th>7</th>\n",
       "      <th>8</th>\n",
       "    </tr>\n",
       "  </thead>\n",
       "  <tbody>\n",
       "    <tr>\n",
       "      <th>0</th>\n",
       "      <td>0.387810</td>\n",
       "      <td>0.493331</td>\n",
       "      <td>0.245368</td>\n",
       "      <td>0.419783</td>\n",
       "      <td>0.752779</td>\n",
       "      <td>0.464092</td>\n",
       "      <td>0.589332</td>\n",
       "      <td>0.401818</td>\n",
       "      <td>0.308515</td>\n",
       "    </tr>\n",
       "    <tr>\n",
       "      <th>1</th>\n",
       "      <td>0.506098</td>\n",
       "      <td>0.618491</td>\n",
       "      <td>0.615686</td>\n",
       "      <td>0.622101</td>\n",
       "      <td>0.583939</td>\n",
       "      <td>0.325406</td>\n",
       "      <td>0.506553</td>\n",
       "      <td>0.289697</td>\n",
       "      <td>0.292074</td>\n",
       "    </tr>\n",
       "    <tr>\n",
       "      <th>2</th>\n",
       "      <td>0.506098</td>\n",
       "      <td>0.511489</td>\n",
       "      <td>0.467451</td>\n",
       "      <td>0.601828</td>\n",
       "      <td>0.718714</td>\n",
       "      <td>0.420997</td>\n",
       "      <td>0.320908</td>\n",
       "      <td>0.507029</td>\n",
       "      <td>0.336241</td>\n",
       "    </tr>\n",
       "    <tr>\n",
       "      <th>3</th>\n",
       "      <td>0.422181</td>\n",
       "      <td>0.702627</td>\n",
       "      <td>0.417049</td>\n",
       "      <td>0.348709</td>\n",
       "      <td>0.729730</td>\n",
       "      <td>0.491605</td>\n",
       "      <td>0.464246</td>\n",
       "      <td>0.485570</td>\n",
       "      <td>0.483552</td>\n",
       "    </tr>\n",
       "    <tr>\n",
       "      <th>4</th>\n",
       "      <td>0.454405</td>\n",
       "      <td>0.462879</td>\n",
       "      <td>0.418888</td>\n",
       "      <td>0.617752</td>\n",
       "      <td>0.582185</td>\n",
       "      <td>0.211078</td>\n",
       "      <td>0.320252</td>\n",
       "      <td>0.562782</td>\n",
       "      <td>0.421964</td>\n",
       "    </tr>\n",
       "    <tr>\n",
       "      <th>...</th>\n",
       "      <td>...</td>\n",
       "      <td>...</td>\n",
       "      <td>...</td>\n",
       "      <td>...</td>\n",
       "      <td>...</td>\n",
       "      <td>...</td>\n",
       "      <td>...</td>\n",
       "      <td>...</td>\n",
       "      <td>...</td>\n",
       "    </tr>\n",
       "    <tr>\n",
       "      <th>3271</th>\n",
       "      <td>0.671132</td>\n",
       "      <td>0.416137</td>\n",
       "      <td>0.146205</td>\n",
       "      <td>0.620198</td>\n",
       "      <td>0.583939</td>\n",
       "      <td>0.472216</td>\n",
       "      <td>0.399721</td>\n",
       "      <td>0.645064</td>\n",
       "      <td>0.393363</td>\n",
       "    </tr>\n",
       "    <tr>\n",
       "      <th>3272</th>\n",
       "      <td>0.483578</td>\n",
       "      <td>0.559388</td>\n",
       "      <td>0.419771</td>\n",
       "      <td>0.705717</td>\n",
       "      <td>0.564211</td>\n",
       "      <td>0.590874</td>\n",
       "      <td>0.594648</td>\n",
       "      <td>0.724691</td>\n",
       "      <td>0.709673</td>\n",
       "    </tr>\n",
       "    <tr>\n",
       "      <th>3273</th>\n",
       "      <td>0.553152</td>\n",
       "      <td>0.501051</td>\n",
       "      <td>0.496922</td>\n",
       "      <td>0.601860</td>\n",
       "      <td>0.578265</td>\n",
       "      <td>0.232474</td>\n",
       "      <td>0.572121</td>\n",
       "      <td>0.479739</td>\n",
       "      <td>0.710471</td>\n",
       "    </tr>\n",
       "    <tr>\n",
       "      <th>3274</th>\n",
       "      <td>0.421167</td>\n",
       "      <td>0.476061</td>\n",
       "      <td>0.280745</td>\n",
       "      <td>0.386705</td>\n",
       "      <td>0.583939</td>\n",
       "      <td>0.510970</td>\n",
       "      <td>0.545506</td>\n",
       "      <td>0.638747</td>\n",
       "      <td>0.677416</td>\n",
       "    </tr>\n",
       "    <tr>\n",
       "      <th>3275</th>\n",
       "      <td>0.292244</td>\n",
       "      <td>0.360395</td>\n",
       "      <td>0.392924</td>\n",
       "      <td>0.540351</td>\n",
       "      <td>0.436591</td>\n",
       "      <td>0.526023</td>\n",
       "      <td>0.322282</td>\n",
       "      <td>0.562472</td>\n",
       "      <td>0.851262</td>\n",
       "    </tr>\n",
       "  </tbody>\n",
       "</table>\n",
       "<p>3276 rows × 9 columns</p>\n",
       "</div>"
      ],
      "text/plain": [
       "             0         1         2         3         4         5         6  \\\n",
       "0     0.387810  0.493331  0.245368  0.419783  0.752779  0.464092  0.589332   \n",
       "1     0.506098  0.618491  0.615686  0.622101  0.583939  0.325406  0.506553   \n",
       "2     0.506098  0.511489  0.467451  0.601828  0.718714  0.420997  0.320908   \n",
       "3     0.422181  0.702627  0.417049  0.348709  0.729730  0.491605  0.464246   \n",
       "4     0.454405  0.462879  0.418888  0.617752  0.582185  0.211078  0.320252   \n",
       "...        ...       ...       ...       ...       ...       ...       ...   \n",
       "3271  0.671132  0.416137  0.146205  0.620198  0.583939  0.472216  0.399721   \n",
       "3272  0.483578  0.559388  0.419771  0.705717  0.564211  0.590874  0.594648   \n",
       "3273  0.553152  0.501051  0.496922  0.601860  0.578265  0.232474  0.572121   \n",
       "3274  0.421167  0.476061  0.280745  0.386705  0.583939  0.510970  0.545506   \n",
       "3275  0.292244  0.360395  0.392924  0.540351  0.436591  0.526023  0.322282   \n",
       "\n",
       "             7         8  \n",
       "0     0.401818  0.308515  \n",
       "1     0.289697  0.292074  \n",
       "2     0.507029  0.336241  \n",
       "3     0.485570  0.483552  \n",
       "4     0.562782  0.421964  \n",
       "...        ...       ...  \n",
       "3271  0.645064  0.393363  \n",
       "3272  0.724691  0.709673  \n",
       "3273  0.479739  0.710471  \n",
       "3274  0.638747  0.677416  \n",
       "3275  0.562472  0.851262  \n",
       "\n",
       "[3276 rows x 9 columns]"
      ]
     },
     "execution_count": 20,
     "metadata": {},
     "output_type": "execute_result"
    }
   ],
   "source": [
    "from sklearn.preprocessing import MinMaxScaler\n",
    "\n",
    "scaler = MinMaxScaler()\n",
    "scaler.fit(x)\n",
    "\n",
    "x = scaler.transform(x)\n",
    "\n",
    "x = pd.DataFrame(x)\n",
    "x"
   ]
  },
  {
   "cell_type": "markdown",
   "id": "f2de5be5",
   "metadata": {},
   "source": [
    "<h3>OverSampling</h3>\n",
    "Also does not need to be in the pipeline at the endpoint because it is solely for generating more training examples."
   ]
  },
  {
   "cell_type": "code",
   "execution_count": 22,
   "id": "51acec97",
   "metadata": {},
   "outputs": [
    {
     "name": "stdout",
     "output_type": "stream",
     "text": [
      "Collecting imbalanced-learn\n",
      "  Downloading imbalanced_learn-0.8.0-py3-none-any.whl (206 kB)\n",
      "\u001b[K     |████████████████████████████████| 206 kB 5.3 MB/s eta 0:00:01\n",
      "\u001b[?25hRequirement already satisfied: joblib>=0.11 in /home/ec2-user/anaconda3/envs/python3/lib/python3.6/site-packages (from imbalanced-learn) (1.0.1)\n",
      "Requirement already satisfied: numpy>=1.13.3 in /home/ec2-user/anaconda3/envs/python3/lib/python3.6/site-packages (from imbalanced-learn) (1.19.5)\n",
      "Requirement already satisfied: scikit-learn>=0.24 in /home/ec2-user/anaconda3/envs/python3/lib/python3.6/site-packages (from imbalanced-learn) (0.24.1)\n",
      "Requirement already satisfied: scipy>=0.19.1 in /home/ec2-user/anaconda3/envs/python3/lib/python3.6/site-packages (from imbalanced-learn) (1.5.3)\n",
      "Requirement already satisfied: threadpoolctl>=2.0.0 in /home/ec2-user/anaconda3/envs/python3/lib/python3.6/site-packages (from scikit-learn>=0.24->imbalanced-learn) (2.1.0)\n",
      "Installing collected packages: imbalanced-learn\n",
      "Successfully installed imbalanced-learn-0.8.0\n",
      "\u001b[33mWARNING: You are using pip version 21.1.3; however, version 21.2.4 is available.\n",
      "You should consider upgrading via the '/home/ec2-user/anaconda3/envs/python3/bin/python -m pip install --upgrade pip' command.\u001b[0m\n"
     ]
    }
   ],
   "source": [
    "!pip install -U imbalanced-learn"
   ]
  },
  {
   "cell_type": "code",
   "execution_count": 23,
   "id": "607df94b",
   "metadata": {},
   "outputs": [],
   "source": [
    "from imblearn.over_sampling import SMOTE\n",
    "\n",
    "oversample = SMOTE()\n",
    "x_res, y_res = oversample.fit_resample(x,y)"
   ]
  },
  {
   "cell_type": "code",
   "execution_count": 24,
   "id": "306e3095",
   "metadata": {},
   "outputs": [
    {
     "data": {
      "text/plain": [
       "((3996, 9), (3996,))"
      ]
     },
     "execution_count": 24,
     "metadata": {},
     "output_type": "execute_result"
    }
   ],
   "source": [
    "x_res.shape, y_res.shape"
   ]
  },
  {
   "cell_type": "markdown",
   "id": "352c36b5",
   "metadata": {},
   "source": [
    "<h3>Modeling</h3>"
   ]
  },
  {
   "cell_type": "code",
   "execution_count": 25,
   "id": "a97ced96",
   "metadata": {},
   "outputs": [],
   "source": [
    "from numpy import mean\n",
    "from numpy import std\n",
    "from sklearn.model_selection import KFold\n",
    "from sklearn.model_selection import cross_val_score\n",
    "from sklearn.ensemble import RandomForestClassifier"
   ]
  },
  {
   "cell_type": "code",
   "execution_count": 26,
   "id": "d3474be3",
   "metadata": {},
   "outputs": [],
   "source": [
    "cv = KFold(n_splits=10, random_state=1, shuffle=True)"
   ]
  },
  {
   "cell_type": "code",
   "execution_count": 27,
   "id": "49c73980",
   "metadata": {},
   "outputs": [],
   "source": [
    "rf = RandomForestClassifier(n_estimators=1000)"
   ]
  },
  {
   "cell_type": "code",
   "execution_count": 28,
   "id": "9e3b5596",
   "metadata": {},
   "outputs": [],
   "source": [
    "scores = cross_val_score(rf, x_res, y_res, scoring='accuracy', cv=cv, n_jobs=-1)"
   ]
  },
  {
   "cell_type": "code",
   "execution_count": 29,
   "id": "27358141",
   "metadata": {},
   "outputs": [
    {
     "name": "stdout",
     "output_type": "stream",
     "text": [
      "Accuracy: 0.824 (0.014)\n"
     ]
    }
   ],
   "source": [
    "print('Accuracy: %.3f (%.3f)' % (mean(scores), std(scores)))"
   ]
  },
  {
   "cell_type": "code",
   "execution_count": 30,
   "id": "1069f9a5",
   "metadata": {},
   "outputs": [],
   "source": [
    "from sklearn.model_selection import train_test_split\n",
    "x_train, x_test, y_train, y_test = train_test_split(x,y, test_size = 0.2, stratify = y)"
   ]
  },
  {
   "cell_type": "code",
   "execution_count": 32,
   "id": "8e46d4e5",
   "metadata": {},
   "outputs": [
    {
     "data": {
      "text/plain": [
       "RandomForestClassifier(n_estimators=1000)"
      ]
     },
     "execution_count": 32,
     "metadata": {},
     "output_type": "execute_result"
    }
   ],
   "source": [
    "rf = RandomForestClassifier(n_estimators=1000)\n",
    "rf.fit(x_train, y_train)"
   ]
  },
  {
   "cell_type": "code",
   "execution_count": 34,
   "id": "6a8ae9f4",
   "metadata": {},
   "outputs": [
    {
     "name": "stdout",
     "output_type": "stream",
     "text": [
      "0.823170731707317\n"
     ]
    }
   ],
   "source": [
    "from sklearn.metrics import accuracy_score\n",
    "rf_predictions = rf.predict(x_test)\n",
    "rf_accuracy = accuracy_score(rf_predictions, y_test)\n",
    "print(rf_accuracy)"
   ]
  },
  {
   "cell_type": "markdown",
   "id": "a728bb0b",
   "metadata": {},
   "source": [
    "<h3>Sagemaker Pipeline</h3>"
   ]
  },
  {
   "cell_type": "code",
   "execution_count": 37,
   "id": "fc9a6471",
   "metadata": {},
   "outputs": [],
   "source": [
    "preprocessing_script = '/home/ec2-user/SageMaker/Water-Quality-Project/water_quality_preprocessing.py'"
   ]
  },
  {
   "cell_type": "code",
   "execution_count": 42,
   "id": "69fa6388",
   "metadata": {},
   "outputs": [],
   "source": [
    "import sagemaker\n",
    "role = sagemaker.get_execution_role()\n",
    "sagemaker_session = sagemaker.Session()"
   ]
  },
  {
   "cell_type": "markdown",
   "id": "052f9f09",
   "metadata": {},
   "source": [
    "We create a preprocessor using the script. We can use this to send raw data and it outputs the processed data. When inserted into a pipeline, it will output the data in JSON format (according to our output_fn function that we wrote) which is automatically passed to the next container in the Pipeline (which would be the inference container). This happens because JSON is the format that can be read by other containers by default.\n",
    "\n",
    "To do this, we define an SKLearn estimator (we don't actually use it as an estimator, which is why we had to overwrite the predict_fn and model_fn functions)."
   ]
  },
  {
   "cell_type": "code",
   "execution_count": 61,
   "id": "fdd6d88b",
   "metadata": {},
   "outputs": [],
   "source": [
    "from sagemaker.sklearn.estimator import SKLearn\n",
    "\n",
    "sklearn_preprocessor = SKLearn(\n",
    "    entry_point = preprocessing_script, \n",
    "    role = role,\n",
    "    framework_version=\"0.20.0\",  # now required (0.23-1 is also supported but requires code change)\n",
    "    py_version=\"py3\",  # now required\n",
    "    instance_type = 'ml.m4.xlarge',\n",
    "    # instance_type = 'local',\n",
    "    # sagemaker_session = sagemaker_session\n",
    ")"
   ]
  },
  {
   "cell_type": "code",
   "execution_count": null,
   "id": "6a45bc3d",
   "metadata": {},
   "outputs": [],
   "source": [
    "sklearn_preprocessor.fit({'train': s3_input_uri})"
   ]
  },
  {
   "cell_type": "markdown",
   "id": "39e6496d",
   "metadata": {},
   "source": [
    "<h3>Build your own container</h3>"
   ]
  },
  {
   "cell_type": "code",
   "execution_count": 67,
   "id": "d5f9f9bb",
   "metadata": {},
   "outputs": [],
   "source": [
    "from sagemaker.estimator import Estimator\n",
    "\n",
    "byoc_est = Estimator(\n",
    "    role=role,\n",
    "    instance_count=1,\n",
    "    instance_type='local',\n",
    "    image_uri=container_uri\n",
    ")"
   ]
  },
  {
   "cell_type": "code",
   "execution_count": null,
   "id": "bbb8ee48",
   "metadata": {},
   "outputs": [],
   "source": [
    "byoc_est.fit({'train': s3_input_uri})"
   ]
  }
 ],
 "metadata": {
  "kernelspec": {
   "display_name": "conda_python3",
   "language": "python",
   "name": "conda_python3"
  },
  "language_info": {
   "codemirror_mode": {
    "name": "ipython",
    "version": 3
   },
   "file_extension": ".py",
   "mimetype": "text/x-python",
   "name": "python",
   "nbconvert_exporter": "python",
   "pygments_lexer": "ipython3",
   "version": "3.6.13"
  }
 },
 "nbformat": 4,
 "nbformat_minor": 5
}
