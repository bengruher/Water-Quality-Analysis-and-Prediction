{
 "cells": [
  {
   "cell_type": "markdown",
   "id": "54a870d1",
   "metadata": {},
   "source": [
    "# Stage 1: Initial EDA, Data Preprocessing, and Modeling\n",
    "Goal: predict whether or not water is acceptable for human consumption (potability) based on its chemical characteristics.\n",
    "\n",
    "Data source: [Kaggle Water Quality Dataset](https://www.kaggle.com/adityakadiwal/water-potability)\n",
    "\n",
    "**This is a binary classification problem: the water can be acceptable for human consumption (potable) or not.**"
   ]
  },
  {
   "cell_type": "code",
   "execution_count": 1,
   "id": "3b87cbc0",
   "metadata": {},
   "outputs": [
    {
     "name": "stderr",
     "output_type": "stream",
     "text": [
      "Matplotlib is building the font cache; this may take a moment.\n"
     ]
    }
   ],
   "source": [
    "import pandas as pd\n",
    "import numpy as np\n",
    "import boto3\n",
    "import sagemaker\n",
    "\n",
    "import matplotlib.pyplot as plt"
   ]
  },
  {
   "cell_type": "code",
   "execution_count": 2,
   "id": "811d1630",
   "metadata": {},
   "outputs": [],
   "source": [
    "bucket = '<INSERT BUCKET NAME HERE>'\n",
    "input_prefix = 'input'\n",
    "input_key = 'water_potability.csv'\n",
    "\n",
    "region = 'us-west-2'"
   ]
  },
  {
   "cell_type": "code",
   "execution_count": 3,
   "id": "564fa99e",
   "metadata": {},
   "outputs": [],
   "source": [
    "s3_input_uri = 's3://{}/{}/{}'.format(bucket, input_prefix, input_key)"
   ]
  },
  {
   "cell_type": "code",
   "execution_count": 4,
   "id": "c0b6a5d8",
   "metadata": {},
   "outputs": [
    {
     "data": {
      "text/html": [
       "<div>\n",
       "<style scoped>\n",
       "    .dataframe tbody tr th:only-of-type {\n",
       "        vertical-align: middle;\n",
       "    }\n",
       "\n",
       "    .dataframe tbody tr th {\n",
       "        vertical-align: top;\n",
       "    }\n",
       "\n",
       "    .dataframe thead th {\n",
       "        text-align: right;\n",
       "    }\n",
       "</style>\n",
       "<table border=\"1\" class=\"dataframe\">\n",
       "  <thead>\n",
       "    <tr style=\"text-align: right;\">\n",
       "      <th></th>\n",
       "      <th>ph</th>\n",
       "      <th>Hardness</th>\n",
       "      <th>Solids</th>\n",
       "      <th>Chloramines</th>\n",
       "      <th>Sulfate</th>\n",
       "      <th>Conductivity</th>\n",
       "      <th>Organic_carbon</th>\n",
       "      <th>Trihalomethanes</th>\n",
       "      <th>Turbidity</th>\n",
       "      <th>Potability</th>\n",
       "    </tr>\n",
       "  </thead>\n",
       "  <tbody>\n",
       "    <tr>\n",
       "      <th>0</th>\n",
       "      <td>NaN</td>\n",
       "      <td>204.890455</td>\n",
       "      <td>20791.318981</td>\n",
       "      <td>7.300212</td>\n",
       "      <td>368.516441</td>\n",
       "      <td>564.308654</td>\n",
       "      <td>10.379783</td>\n",
       "      <td>86.990970</td>\n",
       "      <td>2.963135</td>\n",
       "      <td>0</td>\n",
       "    </tr>\n",
       "    <tr>\n",
       "      <th>1</th>\n",
       "      <td>3.716080</td>\n",
       "      <td>129.422921</td>\n",
       "      <td>18630.057858</td>\n",
       "      <td>6.635246</td>\n",
       "      <td>NaN</td>\n",
       "      <td>592.885359</td>\n",
       "      <td>15.180013</td>\n",
       "      <td>56.329076</td>\n",
       "      <td>4.500656</td>\n",
       "      <td>0</td>\n",
       "    </tr>\n",
       "    <tr>\n",
       "      <th>2</th>\n",
       "      <td>8.099124</td>\n",
       "      <td>224.236259</td>\n",
       "      <td>19909.541732</td>\n",
       "      <td>9.275884</td>\n",
       "      <td>NaN</td>\n",
       "      <td>418.606213</td>\n",
       "      <td>16.868637</td>\n",
       "      <td>66.420093</td>\n",
       "      <td>3.055934</td>\n",
       "      <td>0</td>\n",
       "    </tr>\n",
       "    <tr>\n",
       "      <th>3</th>\n",
       "      <td>8.316766</td>\n",
       "      <td>214.373394</td>\n",
       "      <td>22018.417441</td>\n",
       "      <td>8.059332</td>\n",
       "      <td>356.886136</td>\n",
       "      <td>363.266516</td>\n",
       "      <td>18.436524</td>\n",
       "      <td>100.341674</td>\n",
       "      <td>4.628771</td>\n",
       "      <td>0</td>\n",
       "    </tr>\n",
       "    <tr>\n",
       "      <th>4</th>\n",
       "      <td>9.092223</td>\n",
       "      <td>181.101509</td>\n",
       "      <td>17978.986339</td>\n",
       "      <td>6.546600</td>\n",
       "      <td>310.135738</td>\n",
       "      <td>398.410813</td>\n",
       "      <td>11.558279</td>\n",
       "      <td>31.997993</td>\n",
       "      <td>4.075075</td>\n",
       "      <td>0</td>\n",
       "    </tr>\n",
       "  </tbody>\n",
       "</table>\n",
       "</div>"
      ],
      "text/plain": [
       "         ph    Hardness        Solids  Chloramines     Sulfate  Conductivity  \\\n",
       "0       NaN  204.890455  20791.318981     7.300212  368.516441    564.308654   \n",
       "1  3.716080  129.422921  18630.057858     6.635246         NaN    592.885359   \n",
       "2  8.099124  224.236259  19909.541732     9.275884         NaN    418.606213   \n",
       "3  8.316766  214.373394  22018.417441     8.059332  356.886136    363.266516   \n",
       "4  9.092223  181.101509  17978.986339     6.546600  310.135738    398.410813   \n",
       "\n",
       "   Organic_carbon  Trihalomethanes  Turbidity  Potability  \n",
       "0       10.379783        86.990970   2.963135           0  \n",
       "1       15.180013        56.329076   4.500656           0  \n",
       "2       16.868637        66.420093   3.055934           0  \n",
       "3       18.436524       100.341674   4.628771           0  \n",
       "4       11.558279        31.997993   4.075075           0  "
      ]
     },
     "execution_count": 4,
     "metadata": {},
     "output_type": "execute_result"
    }
   ],
   "source": [
    "df = pd.read_csv(s3_input_uri)\n",
    "df.head()"
   ]
  },
  {
   "cell_type": "markdown",
   "id": "e5a85a36",
   "metadata": {},
   "source": [
    "### EDA and Visualization"
   ]
  },
  {
   "cell_type": "code",
   "execution_count": 5,
   "id": "daa6cc41",
   "metadata": {},
   "outputs": [
    {
     "data": {
      "text/html": [
       "<div>\n",
       "<style scoped>\n",
       "    .dataframe tbody tr th:only-of-type {\n",
       "        vertical-align: middle;\n",
       "    }\n",
       "\n",
       "    .dataframe tbody tr th {\n",
       "        vertical-align: top;\n",
       "    }\n",
       "\n",
       "    .dataframe thead th {\n",
       "        text-align: right;\n",
       "    }\n",
       "</style>\n",
       "<table border=\"1\" class=\"dataframe\">\n",
       "  <thead>\n",
       "    <tr style=\"text-align: right;\">\n",
       "      <th></th>\n",
       "      <th>ph</th>\n",
       "      <th>Hardness</th>\n",
       "      <th>Solids</th>\n",
       "      <th>Chloramines</th>\n",
       "      <th>Sulfate</th>\n",
       "      <th>Conductivity</th>\n",
       "      <th>Organic_carbon</th>\n",
       "      <th>Trihalomethanes</th>\n",
       "      <th>Turbidity</th>\n",
       "      <th>Potability</th>\n",
       "    </tr>\n",
       "  </thead>\n",
       "  <tbody>\n",
       "    <tr>\n",
       "      <th>count</th>\n",
       "      <td>2785.000000</td>\n",
       "      <td>3276.000000</td>\n",
       "      <td>3276.000000</td>\n",
       "      <td>3276.000000</td>\n",
       "      <td>2495.000000</td>\n",
       "      <td>3276.000000</td>\n",
       "      <td>3276.000000</td>\n",
       "      <td>3114.000000</td>\n",
       "      <td>3276.000000</td>\n",
       "      <td>3276.000000</td>\n",
       "    </tr>\n",
       "    <tr>\n",
       "      <th>mean</th>\n",
       "      <td>7.080795</td>\n",
       "      <td>196.369496</td>\n",
       "      <td>22014.092526</td>\n",
       "      <td>7.122277</td>\n",
       "      <td>333.775777</td>\n",
       "      <td>426.205111</td>\n",
       "      <td>14.284970</td>\n",
       "      <td>66.396293</td>\n",
       "      <td>3.966786</td>\n",
       "      <td>0.390110</td>\n",
       "    </tr>\n",
       "    <tr>\n",
       "      <th>std</th>\n",
       "      <td>1.594320</td>\n",
       "      <td>32.879761</td>\n",
       "      <td>8768.570828</td>\n",
       "      <td>1.583085</td>\n",
       "      <td>41.416840</td>\n",
       "      <td>80.824064</td>\n",
       "      <td>3.308162</td>\n",
       "      <td>16.175008</td>\n",
       "      <td>0.780382</td>\n",
       "      <td>0.487849</td>\n",
       "    </tr>\n",
       "    <tr>\n",
       "      <th>min</th>\n",
       "      <td>0.000000</td>\n",
       "      <td>47.432000</td>\n",
       "      <td>320.942611</td>\n",
       "      <td>0.352000</td>\n",
       "      <td>129.000000</td>\n",
       "      <td>181.483754</td>\n",
       "      <td>2.200000</td>\n",
       "      <td>0.738000</td>\n",
       "      <td>1.450000</td>\n",
       "      <td>0.000000</td>\n",
       "    </tr>\n",
       "    <tr>\n",
       "      <th>25%</th>\n",
       "      <td>6.093092</td>\n",
       "      <td>176.850538</td>\n",
       "      <td>15666.690297</td>\n",
       "      <td>6.127421</td>\n",
       "      <td>307.699498</td>\n",
       "      <td>365.734414</td>\n",
       "      <td>12.065801</td>\n",
       "      <td>55.844536</td>\n",
       "      <td>3.439711</td>\n",
       "      <td>0.000000</td>\n",
       "    </tr>\n",
       "    <tr>\n",
       "      <th>50%</th>\n",
       "      <td>7.036752</td>\n",
       "      <td>196.967627</td>\n",
       "      <td>20927.833607</td>\n",
       "      <td>7.130299</td>\n",
       "      <td>333.073546</td>\n",
       "      <td>421.884968</td>\n",
       "      <td>14.218338</td>\n",
       "      <td>66.622485</td>\n",
       "      <td>3.955028</td>\n",
       "      <td>0.000000</td>\n",
       "    </tr>\n",
       "    <tr>\n",
       "      <th>75%</th>\n",
       "      <td>8.062066</td>\n",
       "      <td>216.667456</td>\n",
       "      <td>27332.762127</td>\n",
       "      <td>8.114887</td>\n",
       "      <td>359.950170</td>\n",
       "      <td>481.792304</td>\n",
       "      <td>16.557652</td>\n",
       "      <td>77.337473</td>\n",
       "      <td>4.500320</td>\n",
       "      <td>1.000000</td>\n",
       "    </tr>\n",
       "    <tr>\n",
       "      <th>max</th>\n",
       "      <td>14.000000</td>\n",
       "      <td>323.124000</td>\n",
       "      <td>61227.196008</td>\n",
       "      <td>13.127000</td>\n",
       "      <td>481.030642</td>\n",
       "      <td>753.342620</td>\n",
       "      <td>28.300000</td>\n",
       "      <td>124.000000</td>\n",
       "      <td>6.739000</td>\n",
       "      <td>1.000000</td>\n",
       "    </tr>\n",
       "  </tbody>\n",
       "</table>\n",
       "</div>"
      ],
      "text/plain": [
       "                ph     Hardness        Solids  Chloramines      Sulfate  \\\n",
       "count  2785.000000  3276.000000   3276.000000  3276.000000  2495.000000   \n",
       "mean      7.080795   196.369496  22014.092526     7.122277   333.775777   \n",
       "std       1.594320    32.879761   8768.570828     1.583085    41.416840   \n",
       "min       0.000000    47.432000    320.942611     0.352000   129.000000   \n",
       "25%       6.093092   176.850538  15666.690297     6.127421   307.699498   \n",
       "50%       7.036752   196.967627  20927.833607     7.130299   333.073546   \n",
       "75%       8.062066   216.667456  27332.762127     8.114887   359.950170   \n",
       "max      14.000000   323.124000  61227.196008    13.127000   481.030642   \n",
       "\n",
       "       Conductivity  Organic_carbon  Trihalomethanes    Turbidity   Potability  \n",
       "count   3276.000000     3276.000000      3114.000000  3276.000000  3276.000000  \n",
       "mean     426.205111       14.284970        66.396293     3.966786     0.390110  \n",
       "std       80.824064        3.308162        16.175008     0.780382     0.487849  \n",
       "min      181.483754        2.200000         0.738000     1.450000     0.000000  \n",
       "25%      365.734414       12.065801        55.844536     3.439711     0.000000  \n",
       "50%      421.884968       14.218338        66.622485     3.955028     0.000000  \n",
       "75%      481.792304       16.557652        77.337473     4.500320     1.000000  \n",
       "max      753.342620       28.300000       124.000000     6.739000     1.000000  "
      ]
     },
     "execution_count": 5,
     "metadata": {},
     "output_type": "execute_result"
    }
   ],
   "source": [
    "df.describe()"
   ]
  },
  {
   "cell_type": "code",
   "execution_count": 6,
   "id": "8f88344e",
   "metadata": {},
   "outputs": [
    {
     "data": {
      "text/plain": [
       "(3276, 10)"
      ]
     },
     "execution_count": 6,
     "metadata": {},
     "output_type": "execute_result"
    }
   ],
   "source": [
    "df.shape"
   ]
  },
  {
   "cell_type": "code",
   "execution_count": 7,
   "id": "b08502ca",
   "metadata": {
    "scrolled": true
   },
   "outputs": [
    {
     "data": {
      "text/plain": [
       "0    1998\n",
       "1    1278\n",
       "Name: Potability, dtype: int64"
      ]
     },
     "execution_count": 7,
     "metadata": {},
     "output_type": "execute_result"
    }
   ],
   "source": [
    "df['Potability'].value_counts()"
   ]
  },
  {
   "cell_type": "code",
   "execution_count": 8,
   "id": "5d76666c",
   "metadata": {},
   "outputs": [
    {
     "data": {
      "text/plain": [
       "0"
      ]
     },
     "execution_count": 8,
     "metadata": {},
     "output_type": "execute_result"
    }
   ],
   "source": [
    "df['Potability'].isna().sum()"
   ]
  },
  {
   "cell_type": "code",
   "execution_count": 9,
   "id": "66de9dcb",
   "metadata": {
    "scrolled": true
   },
   "outputs": [
    {
     "data": {
      "image/png": "[encoded data removed]",
      "text/plain": [
       "<Figure size 432x288 with 1 Axes>"
      ]
     },
     "metadata": {
      "needs_background": "light"
     },
     "output_type": "display_data"
    }
   ],
   "source": [
    "plt.figure()\n",
    "plt.hist(df['ph'])\n",
    "plt.show()"
   ]
  },
  {
   "cell_type": "code",
   "execution_count": 10,
   "id": "d0268ef9",
   "metadata": {},
   "outputs": [
    {
     "data": {
      "text/plain": [
       "491"
      ]
     },
     "execution_count": 10,
     "metadata": {},
     "output_type": "execute_result"
    }
   ],
   "source": [
    "df['ph'].isna().sum()"
   ]
  },
  {
   "cell_type": "code",
   "execution_count": 11,
   "id": "7fdd5396",
   "metadata": {},
   "outputs": [
    {
     "data": {
      "image/png": "[encoded data removed]",
      "text/plain": [
       "<Figure size 432x288 with 1 Axes>"
      ]
     },
     "metadata": {
      "needs_background": "light"
     },
     "output_type": "display_data"
    }
   ],
   "source": [
    "plt.figure()\n",
    "plt.hist(df['Hardness'])\n",
    "plt.show()"
   ]
  },
  {
   "cell_type": "code",
   "execution_count": 12,
   "id": "b83f6b2e",
   "metadata": {},
   "outputs": [
    {
     "data": {
      "text/plain": [
       "0"
      ]
     },
     "execution_count": 12,
     "metadata": {},
     "output_type": "execute_result"
    }
   ],
   "source": [
    "df['Hardness'].isna().sum()"
   ]
  },
  {
   "cell_type": "code",
   "execution_count": 13,
   "id": "1b7fb573",
   "metadata": {},
   "outputs": [
    {
     "data": {
      "image/png": "[encoded data removed]",
      "text/plain": [
       "<Figure size 432x288 with 1 Axes>"
      ]
     },
     "metadata": {
      "needs_background": "light"
     },
     "output_type": "display_data"
    }
   ],
   "source": [
    "plt.figure()\n",
    "plt.hist(df['Solids'])\n",
    "plt.show()"
   ]
  },
  {
   "cell_type": "code",
   "execution_count": 14,
   "id": "b6ab07ff",
   "metadata": {},
   "outputs": [
    {
     "data": {
      "text/plain": [
       "0"
      ]
     },
     "execution_count": 14,
     "metadata": {},
     "output_type": "execute_result"
    }
   ],
   "source": [
    "df['Solids'].isna().sum()"
   ]
  },
  {
   "cell_type": "code",
   "execution_count": 15,
   "id": "b31281ea",
   "metadata": {},
   "outputs": [
    {
     "data": {
      "image/png": "[encoded data removed]",
      "text/plain": [
       "<Figure size 432x288 with 1 Axes>"
      ]
     },
     "metadata": {
      "needs_background": "light"
     },
     "output_type": "display_data"
    }
   ],
   "source": [
    "plt.figure()\n",
    "plt.hist(df['Chloramines'])\n",
    "plt.show()"
   ]
  },
  {
   "cell_type": "code",
   "execution_count": 16,
   "id": "b668e186",
   "metadata": {},
   "outputs": [
    {
     "data": {
      "text/plain": [
       "0"
      ]
     },
     "execution_count": 16,
     "metadata": {},
     "output_type": "execute_result"
    }
   ],
   "source": [
    "df['Chloramines'].isna().sum()"
   ]
  },
  {
   "cell_type": "code",
   "execution_count": 17,
   "id": "5c088586",
   "metadata": {
    "scrolled": true
   },
   "outputs": [
    {
     "data": {
      "image/png": "[encoded data removed]",
      "text/plain": [
       "<Figure size 432x288 with 1 Axes>"
      ]
     },
     "metadata": {
      "needs_background": "light"
     },
     "output_type": "display_data"
    }
   ],
   "source": [
    "plt.figure()\n",
    "plt.hist(df['Sulfate'])\n",
    "plt.show()"
   ]
  },
  {
   "cell_type": "code",
   "execution_count": 18,
   "id": "11de5dbd",
   "metadata": {},
   "outputs": [
    {
     "data": {
      "text/plain": [
       "781"
      ]
     },
     "execution_count": 18,
     "metadata": {},
     "output_type": "execute_result"
    }
   ],
   "source": [
    "df['Sulfate'].isna().sum()"
   ]
  },
  {
   "cell_type": "code",
   "execution_count": 19,
   "id": "ae27ae99",
   "metadata": {},
   "outputs": [
    {
     "data": {
      "image/png": "[encoded data removed]",
      "text/plain": [
       "<Figure size 432x288 with 1 Axes>"
      ]
     },
     "metadata": {
      "needs_background": "light"
     },
     "output_type": "display_data"
    }
   ],
   "source": [
    "plt.figure()\n",
    "plt.hist(df['Conductivity'])\n",
    "plt.show()"
   ]
  },
  {
   "cell_type": "code",
   "execution_count": 20,
   "id": "24c12c74",
   "metadata": {},
   "outputs": [
    {
     "data": {
      "text/plain": [
       "0"
      ]
     },
     "execution_count": 20,
     "metadata": {},
     "output_type": "execute_result"
    }
   ],
   "source": [
    "df['Conductivity'].isna().sum()"
   ]
  },
  {
   "cell_type": "code",
   "execution_count": 21,
   "id": "df91bb56",
   "metadata": {},
   "outputs": [
    {
     "data": {
      "image/png": "[encoded data removed]",
      "text/plain": [
       "<Figure size 432x288 with 1 Axes>"
      ]
     },
     "metadata": {
      "needs_background": "light"
     },
     "output_type": "display_data"
    }
   ],
   "source": [
    "plt.figure()\n",
    "plt.hist(df['Organic_carbon'])\n",
    "plt.show()"
   ]
  },
  {
   "cell_type": "code",
   "execution_count": 22,
   "id": "789ac84f",
   "metadata": {},
   "outputs": [
    {
     "data": {
      "text/plain": [
       "0"
      ]
     },
     "execution_count": 22,
     "metadata": {},
     "output_type": "execute_result"
    }
   ],
   "source": [
    "df['Organic_carbon'].isna().sum()"
   ]
  },
  {
   "cell_type": "code",
   "execution_count": 23,
   "id": "d73cd501",
   "metadata": {
    "scrolled": true
   },
   "outputs": [
    {
     "data": {
      "image/png": "[encoded data removed]",
      "text/plain": [
       "<Figure size 432x288 with 1 Axes>"
      ]
     },
     "metadata": {
      "needs_background": "light"
     },
     "output_type": "display_data"
    }
   ],
   "source": [
    "plt.figure()\n",
    "plt.hist(df['Trihalomethanes'])\n",
    "plt.show()"
   ]
  },
  {
   "cell_type": "code",
   "execution_count": 24,
   "id": "e90b487e",
   "metadata": {},
   "outputs": [
    {
     "data": {
      "text/plain": [
       "162"
      ]
     },
     "execution_count": 24,
     "metadata": {},
     "output_type": "execute_result"
    }
   ],
   "source": [
    "df['Trihalomethanes'].isna().sum()"
   ]
  },
  {
   "cell_type": "code",
   "execution_count": 25,
   "id": "b88e6b08",
   "metadata": {},
   "outputs": [
    {
     "data": {
      "image/png": "[encoded data removed]",
      "text/plain": [
       "<Figure size 432x288 with 1 Axes>"
      ]
     },
     "metadata": {
      "needs_background": "light"
     },
     "output_type": "display_data"
    }
   ],
   "source": [
    "plt.figure()\n",
    "plt.hist(df['Turbidity'])\n",
    "plt.show()"
   ]
  },
  {
   "cell_type": "code",
   "execution_count": 26,
   "id": "2e367694",
   "metadata": {},
   "outputs": [
    {
     "data": {
      "text/plain": [
       "0"
      ]
     },
     "execution_count": 26,
     "metadata": {},
     "output_type": "execute_result"
    }
   ],
   "source": [
    "df['Turbidity'].isna().sum()"
   ]
  },
  {
   "cell_type": "code",
   "execution_count": 27,
   "id": "3c132bfe",
   "metadata": {},
   "outputs": [
    {
     "data": {
      "text/plain": [
       "387     3\n",
       "2065    3\n",
       "3067    3\n",
       "141     3\n",
       "929     3\n",
       "992     3\n",
       "3062    3\n",
       "201     3\n",
       "646     3\n",
       "1456    2\n",
       "dtype: int64"
      ]
     },
     "execution_count": 27,
     "metadata": {},
     "output_type": "execute_result"
    }
   ],
   "source": [
    "df.isna().sum(axis=1).sort_values(ascending=False).head(10)"
   ]
  },
  {
   "cell_type": "code",
   "execution_count": 28,
   "id": "79ac96dc",
   "metadata": {},
   "outputs": [
    {
     "data": {
      "text/plain": [
       "0    2011\n",
       "1    1105\n",
       "2     151\n",
       "3       9\n",
       "dtype: int64"
      ]
     },
     "execution_count": 28,
     "metadata": {},
     "output_type": "execute_result"
    }
   ],
   "source": [
    "df.isna().sum(axis=1).value_counts()"
   ]
  },
  {
   "cell_type": "markdown",
   "id": "4c8a94be",
   "metadata": {},
   "source": [
    "Notes: All features appear relatively normally distributed with no apparent outliers. However, the scale on each feature is vastly different so some sort of normalization or standardization will be necessary (if using an algorithm that is sensitive to scale) - algorithms like decisions trees would not be impacted. The downside of scaling observations is that new observations will need to be scaled in the same way before generating an inference.\n",
    "\n",
    "In addition, out of 3276 observations, the following columns had missing values:\n",
    "\n",
    "- ph: 491\n",
    "- Sulfate: 781\n",
    "- Trihalomethanes: 162\n",
    "\n",
    "In order to test for causes of missing values, we looked at how many missing values each row had. The majority of rows with any missing values only had one missing value. Only 151 had 2 missing values and only 9 rows had 3 missing values. This implies that the missingness is random.\n",
    "\n",
    "Considering how small our original dataset is, we do not want to remove rows with missing values. Instead, we will choose to impute using the mean (since the features have what appears to be a normal distribution)."
   ]
  },
  {
   "cell_type": "markdown",
   "id": "61392195",
   "metadata": {},
   "source": [
    "### Data Preparation"
   ]
  },
  {
   "cell_type": "markdown",
   "id": "d5c86745",
   "metadata": {},
   "source": [
    "#### Step 1: Impute with mean"
   ]
  },
  {
   "cell_type": "code",
   "execution_count": 29,
   "id": "842546d5",
   "metadata": {},
   "outputs": [],
   "source": [
    "df_imputed = df.fillna(df.mean(), inplace=False)"
   ]
  },
  {
   "cell_type": "markdown",
   "id": "afcbc275",
   "metadata": {},
   "source": [
    "#### Step 2: Normalize all features\n",
    "Note: this will need to be done to new data before inference! I don't think this is a good practice because we would need to use the same Scaler object (because it is first fit to the data) and that would most likely not be available at the time of inference."
   ]
  },
  {
   "cell_type": "code",
   "execution_count": 30,
   "id": "127656fb",
   "metadata": {
    "scrolled": true
   },
   "outputs": [
    {
     "data": {
      "text/html": [
       "<div>\n",
       "<style scoped>\n",
       "    .dataframe tbody tr th:only-of-type {\n",
       "        vertical-align: middle;\n",
       "    }\n",
       "\n",
       "    .dataframe tbody tr th {\n",
       "        vertical-align: top;\n",
       "    }\n",
       "\n",
       "    .dataframe thead th {\n",
       "        text-align: right;\n",
       "    }\n",
       "</style>\n",
       "<table border=\"1\" class=\"dataframe\">\n",
       "  <thead>\n",
       "    <tr style=\"text-align: right;\">\n",
       "      <th></th>\n",
       "      <th>ph</th>\n",
       "      <th>Hardness</th>\n",
       "      <th>Solids</th>\n",
       "      <th>Chloramines</th>\n",
       "      <th>Sulfate</th>\n",
       "      <th>Conductivity</th>\n",
       "      <th>Organic_carbon</th>\n",
       "      <th>Trihalomethanes</th>\n",
       "      <th>Turbidity</th>\n",
       "      <th>Potability</th>\n",
       "    </tr>\n",
       "  </thead>\n",
       "  <tbody>\n",
       "    <tr>\n",
       "      <th>0</th>\n",
       "      <td>0.505771</td>\n",
       "      <td>0.571139</td>\n",
       "      <td>0.336096</td>\n",
       "      <td>0.543891</td>\n",
       "      <td>0.680385</td>\n",
       "      <td>0.669439</td>\n",
       "      <td>0.313402</td>\n",
       "      <td>0.699753</td>\n",
       "      <td>0.286091</td>\n",
       "      <td>0.0</td>\n",
       "    </tr>\n",
       "    <tr>\n",
       "      <th>1</th>\n",
       "      <td>0.265434</td>\n",
       "      <td>0.297400</td>\n",
       "      <td>0.300611</td>\n",
       "      <td>0.491839</td>\n",
       "      <td>0.581699</td>\n",
       "      <td>0.719411</td>\n",
       "      <td>0.497319</td>\n",
       "      <td>0.450999</td>\n",
       "      <td>0.576793</td>\n",
       "      <td>0.0</td>\n",
       "    </tr>\n",
       "    <tr>\n",
       "      <th>2</th>\n",
       "      <td>0.578509</td>\n",
       "      <td>0.641311</td>\n",
       "      <td>0.321619</td>\n",
       "      <td>0.698543</td>\n",
       "      <td>0.581699</td>\n",
       "      <td>0.414652</td>\n",
       "      <td>0.562017</td>\n",
       "      <td>0.532866</td>\n",
       "      <td>0.303637</td>\n",
       "      <td>0.0</td>\n",
       "    </tr>\n",
       "    <tr>\n",
       "      <th>3</th>\n",
       "      <td>0.594055</td>\n",
       "      <td>0.605536</td>\n",
       "      <td>0.356244</td>\n",
       "      <td>0.603314</td>\n",
       "      <td>0.647347</td>\n",
       "      <td>0.317880</td>\n",
       "      <td>0.622089</td>\n",
       "      <td>0.808065</td>\n",
       "      <td>0.601015</td>\n",
       "      <td>0.0</td>\n",
       "    </tr>\n",
       "    <tr>\n",
       "      <th>4</th>\n",
       "      <td>0.649445</td>\n",
       "      <td>0.484851</td>\n",
       "      <td>0.289922</td>\n",
       "      <td>0.484900</td>\n",
       "      <td>0.514545</td>\n",
       "      <td>0.379337</td>\n",
       "      <td>0.358555</td>\n",
       "      <td>0.253606</td>\n",
       "      <td>0.496327</td>\n",
       "      <td>0.0</td>\n",
       "    </tr>\n",
       "  </tbody>\n",
       "</table>\n",
       "</div>"
      ],
      "text/plain": [
       "         ph  Hardness    Solids  Chloramines   Sulfate  Conductivity  \\\n",
       "0  0.505771  0.571139  0.336096     0.543891  0.680385      0.669439   \n",
       "1  0.265434  0.297400  0.300611     0.491839  0.581699      0.719411   \n",
       "2  0.578509  0.641311  0.321619     0.698543  0.581699      0.414652   \n",
       "3  0.594055  0.605536  0.356244     0.603314  0.647347      0.317880   \n",
       "4  0.649445  0.484851  0.289922     0.484900  0.514545      0.379337   \n",
       "\n",
       "   Organic_carbon  Trihalomethanes  Turbidity  Potability  \n",
       "0        0.313402         0.699753   0.286091         0.0  \n",
       "1        0.497319         0.450999   0.576793         0.0  \n",
       "2        0.562017         0.532866   0.303637         0.0  \n",
       "3        0.622089         0.808065   0.601015         0.0  \n",
       "4        0.358555         0.253606   0.496327         0.0  "
      ]
     },
     "execution_count": 30,
     "metadata": {},
     "output_type": "execute_result"
    }
   ],
   "source": [
    "from sklearn.preprocessing import MinMaxScaler\n",
    "\n",
    "np_scaled = MinMaxScaler().fit_transform(df_imputed)\n",
    "\n",
    "df_scaled = pd.DataFrame(np_scaled, columns = df_imputed.columns)\n",
    "df_scaled.head()"
   ]
  },
  {
   "cell_type": "code",
   "execution_count": 31,
   "id": "9f361495",
   "metadata": {},
   "outputs": [],
   "source": [
    "# note: data_class can either be train, test, or validation, prefix can either be 'preprocessed' or 'preprocessed_normalized'\n",
    "def write_data_to_s3(df, prefix, data_class):\n",
    "    prefix = '{}/{}'.format(prefix, data_class)\n",
    "    key = 'water_quality.csv'\n",
    "    s3_output = 's3://{}/{}/{}'.format(bucket, prefix, key)\n",
    "    df.to_csv(s3_output, header=False, index=False)"
   ]
  },
  {
   "cell_type": "code",
   "execution_count": 32,
   "id": "a03f1c22",
   "metadata": {},
   "outputs": [],
   "source": [
    "# put target column first\n",
    "df_scaled = pd.concat([df_scaled['Potability'], df_scaled.drop('Potability', axis=1, inplace=False)], axis=1)"
   ]
  },
  {
   "cell_type": "code",
   "execution_count": 33,
   "id": "e8bbb1c1",
   "metadata": {},
   "outputs": [
    {
     "data": {
      "text/html": [
       "<div>\n",
       "<style scoped>\n",
       "    .dataframe tbody tr th:only-of-type {\n",
       "        vertical-align: middle;\n",
       "    }\n",
       "\n",
       "    .dataframe tbody tr th {\n",
       "        vertical-align: top;\n",
       "    }\n",
       "\n",
       "    .dataframe thead th {\n",
       "        text-align: right;\n",
       "    }\n",
       "</style>\n",
       "<table border=\"1\" class=\"dataframe\">\n",
       "  <thead>\n",
       "    <tr style=\"text-align: right;\">\n",
       "      <th></th>\n",
       "      <th>Potability</th>\n",
       "      <th>ph</th>\n",
       "      <th>Hardness</th>\n",
       "      <th>Solids</th>\n",
       "      <th>Chloramines</th>\n",
       "      <th>Sulfate</th>\n",
       "      <th>Conductivity</th>\n",
       "      <th>Organic_carbon</th>\n",
       "      <th>Trihalomethanes</th>\n",
       "      <th>Turbidity</th>\n",
       "    </tr>\n",
       "  </thead>\n",
       "  <tbody>\n",
       "    <tr>\n",
       "      <th>0</th>\n",
       "      <td>0.0</td>\n",
       "      <td>0.505771</td>\n",
       "      <td>0.571139</td>\n",
       "      <td>0.336096</td>\n",
       "      <td>0.543891</td>\n",
       "      <td>0.680385</td>\n",
       "      <td>0.669439</td>\n",
       "      <td>0.313402</td>\n",
       "      <td>0.699753</td>\n",
       "      <td>0.286091</td>\n",
       "    </tr>\n",
       "    <tr>\n",
       "      <th>1</th>\n",
       "      <td>0.0</td>\n",
       "      <td>0.265434</td>\n",
       "      <td>0.297400</td>\n",
       "      <td>0.300611</td>\n",
       "      <td>0.491839</td>\n",
       "      <td>0.581699</td>\n",
       "      <td>0.719411</td>\n",
       "      <td>0.497319</td>\n",
       "      <td>0.450999</td>\n",
       "      <td>0.576793</td>\n",
       "    </tr>\n",
       "    <tr>\n",
       "      <th>2</th>\n",
       "      <td>0.0</td>\n",
       "      <td>0.578509</td>\n",
       "      <td>0.641311</td>\n",
       "      <td>0.321619</td>\n",
       "      <td>0.698543</td>\n",
       "      <td>0.581699</td>\n",
       "      <td>0.414652</td>\n",
       "      <td>0.562017</td>\n",
       "      <td>0.532866</td>\n",
       "      <td>0.303637</td>\n",
       "    </tr>\n",
       "    <tr>\n",
       "      <th>3</th>\n",
       "      <td>0.0</td>\n",
       "      <td>0.594055</td>\n",
       "      <td>0.605536</td>\n",
       "      <td>0.356244</td>\n",
       "      <td>0.603314</td>\n",
       "      <td>0.647347</td>\n",
       "      <td>0.317880</td>\n",
       "      <td>0.622089</td>\n",
       "      <td>0.808065</td>\n",
       "      <td>0.601015</td>\n",
       "    </tr>\n",
       "    <tr>\n",
       "      <th>4</th>\n",
       "      <td>0.0</td>\n",
       "      <td>0.649445</td>\n",
       "      <td>0.484851</td>\n",
       "      <td>0.289922</td>\n",
       "      <td>0.484900</td>\n",
       "      <td>0.514545</td>\n",
       "      <td>0.379337</td>\n",
       "      <td>0.358555</td>\n",
       "      <td>0.253606</td>\n",
       "      <td>0.496327</td>\n",
       "    </tr>\n",
       "  </tbody>\n",
       "</table>\n",
       "</div>"
      ],
      "text/plain": [
       "   Potability        ph  Hardness    Solids  Chloramines   Sulfate  \\\n",
       "0         0.0  0.505771  0.571139  0.336096     0.543891  0.680385   \n",
       "1         0.0  0.265434  0.297400  0.300611     0.491839  0.581699   \n",
       "2         0.0  0.578509  0.641311  0.321619     0.698543  0.581699   \n",
       "3         0.0  0.594055  0.605536  0.356244     0.603314  0.647347   \n",
       "4         0.0  0.649445  0.484851  0.289922     0.484900  0.514545   \n",
       "\n",
       "   Conductivity  Organic_carbon  Trihalomethanes  Turbidity  \n",
       "0      0.669439        0.313402         0.699753   0.286091  \n",
       "1      0.719411        0.497319         0.450999   0.576793  \n",
       "2      0.414652        0.562017         0.532866   0.303637  \n",
       "3      0.317880        0.622089         0.808065   0.601015  \n",
       "4      0.379337        0.358555         0.253606   0.496327  "
      ]
     },
     "execution_count": 33,
     "metadata": {},
     "output_type": "execute_result"
    }
   ],
   "source": [
    "df_scaled.head()"
   ]
  },
  {
   "cell_type": "code",
   "execution_count": 34,
   "id": "01100aff",
   "metadata": {},
   "outputs": [],
   "source": [
    "# 60% train, 20% validate, 20% test\n",
    "df_scaled_train, df_scaled_validation, df_scaled_test = \\\n",
    "                                                      np.split(df_scaled.sample(frac=1, random_state=42), \n",
    "                                                       [int(.6*len(df_scaled)), int(.8*len(df_scaled))])"
   ]
  },
  {
   "cell_type": "code",
   "execution_count": 35,
   "id": "50bbcb06",
   "metadata": {},
   "outputs": [
    {
     "data": {
      "text/plain": [
       "(1965, 10)"
      ]
     },
     "execution_count": 35,
     "metadata": {},
     "output_type": "execute_result"
    }
   ],
   "source": [
    "df_scaled_train.shape"
   ]
  },
  {
   "cell_type": "code",
   "execution_count": 36,
   "id": "ed47848a",
   "metadata": {},
   "outputs": [],
   "source": [
    "norm_prefix = 'preprocessed_normalized'\n",
    "write_data_to_s3(df_scaled_train, norm_prefix, 'train')\n",
    "write_data_to_s3(df_scaled_validation, norm_prefix, 'validation')"
   ]
  },
  {
   "cell_type": "markdown",
   "id": "8b7d030f",
   "metadata": {},
   "source": [
    "#### Step 2: Option 2 - Don't normalize features, use algorithm that is not sensitive to scale\n",
    "\n",
    "- Decision trees - XGBoost\n",
    "\n",
    "Put target variable as first column, split into train, test, validation"
   ]
  },
  {
   "cell_type": "code",
   "execution_count": 43,
   "id": "e927a25e",
   "metadata": {},
   "outputs": [],
   "source": [
    "# put target column first\n",
    "df_imputed = pd.concat([df_imputed['Potability'], df_imputed.drop('Potability', axis=1, inplace=False)], axis=1)"
   ]
  },
  {
   "cell_type": "code",
   "execution_count": 44,
   "id": "ec2ea444",
   "metadata": {},
   "outputs": [
    {
     "data": {
      "text/html": [
       "<div>\n",
       "<style scoped>\n",
       "    .dataframe tbody tr th:only-of-type {\n",
       "        vertical-align: middle;\n",
       "    }\n",
       "\n",
       "    .dataframe tbody tr th {\n",
       "        vertical-align: top;\n",
       "    }\n",
       "\n",
       "    .dataframe thead th {\n",
       "        text-align: right;\n",
       "    }\n",
       "</style>\n",
       "<table border=\"1\" class=\"dataframe\">\n",
       "  <thead>\n",
       "    <tr style=\"text-align: right;\">\n",
       "      <th></th>\n",
       "      <th>Potability</th>\n",
       "      <th>ph</th>\n",
       "      <th>Hardness</th>\n",
       "      <th>Solids</th>\n",
       "      <th>Chloramines</th>\n",
       "      <th>Sulfate</th>\n",
       "      <th>Conductivity</th>\n",
       "      <th>Organic_carbon</th>\n",
       "      <th>Trihalomethanes</th>\n",
       "      <th>Turbidity</th>\n",
       "    </tr>\n",
       "  </thead>\n",
       "  <tbody>\n",
       "    <tr>\n",
       "      <th>0</th>\n",
       "      <td>0</td>\n",
       "      <td>7.080795</td>\n",
       "      <td>204.890455</td>\n",
       "      <td>20791.318981</td>\n",
       "      <td>7.300212</td>\n",
       "      <td>368.516441</td>\n",
       "      <td>564.308654</td>\n",
       "      <td>10.379783</td>\n",
       "      <td>86.990970</td>\n",
       "      <td>2.963135</td>\n",
       "    </tr>\n",
       "    <tr>\n",
       "      <th>1</th>\n",
       "      <td>0</td>\n",
       "      <td>3.716080</td>\n",
       "      <td>129.422921</td>\n",
       "      <td>18630.057858</td>\n",
       "      <td>6.635246</td>\n",
       "      <td>333.775777</td>\n",
       "      <td>592.885359</td>\n",
       "      <td>15.180013</td>\n",
       "      <td>56.329076</td>\n",
       "      <td>4.500656</td>\n",
       "    </tr>\n",
       "    <tr>\n",
       "      <th>2</th>\n",
       "      <td>0</td>\n",
       "      <td>8.099124</td>\n",
       "      <td>224.236259</td>\n",
       "      <td>19909.541732</td>\n",
       "      <td>9.275884</td>\n",
       "      <td>333.775777</td>\n",
       "      <td>418.606213</td>\n",
       "      <td>16.868637</td>\n",
       "      <td>66.420093</td>\n",
       "      <td>3.055934</td>\n",
       "    </tr>\n",
       "    <tr>\n",
       "      <th>3</th>\n",
       "      <td>0</td>\n",
       "      <td>8.316766</td>\n",
       "      <td>214.373394</td>\n",
       "      <td>22018.417441</td>\n",
       "      <td>8.059332</td>\n",
       "      <td>356.886136</td>\n",
       "      <td>363.266516</td>\n",
       "      <td>18.436524</td>\n",
       "      <td>100.341674</td>\n",
       "      <td>4.628771</td>\n",
       "    </tr>\n",
       "    <tr>\n",
       "      <th>4</th>\n",
       "      <td>0</td>\n",
       "      <td>9.092223</td>\n",
       "      <td>181.101509</td>\n",
       "      <td>17978.986339</td>\n",
       "      <td>6.546600</td>\n",
       "      <td>310.135738</td>\n",
       "      <td>398.410813</td>\n",
       "      <td>11.558279</td>\n",
       "      <td>31.997993</td>\n",
       "      <td>4.075075</td>\n",
       "    </tr>\n",
       "  </tbody>\n",
       "</table>\n",
       "</div>"
      ],
      "text/plain": [
       "   Potability        ph    Hardness        Solids  Chloramines     Sulfate  \\\n",
       "0           0  7.080795  204.890455  20791.318981     7.300212  368.516441   \n",
       "1           0  3.716080  129.422921  18630.057858     6.635246  333.775777   \n",
       "2           0  8.099124  224.236259  19909.541732     9.275884  333.775777   \n",
       "3           0  8.316766  214.373394  22018.417441     8.059332  356.886136   \n",
       "4           0  9.092223  181.101509  17978.986339     6.546600  310.135738   \n",
       "\n",
       "   Conductivity  Organic_carbon  Trihalomethanes  Turbidity  \n",
       "0    564.308654       10.379783        86.990970   2.963135  \n",
       "1    592.885359       15.180013        56.329076   4.500656  \n",
       "2    418.606213       16.868637        66.420093   3.055934  \n",
       "3    363.266516       18.436524       100.341674   4.628771  \n",
       "4    398.410813       11.558279        31.997993   4.075075  "
      ]
     },
     "execution_count": 44,
     "metadata": {},
     "output_type": "execute_result"
    }
   ],
   "source": [
    "df_imputed.head()"
   ]
  },
  {
   "cell_type": "code",
   "execution_count": 45,
   "id": "815c85df",
   "metadata": {},
   "outputs": [],
   "source": [
    "# 60% train, 20% validate, 20% test\n",
    "df_not_norm_train, df_not_norm_validation, df_not_norm_test = \\\n",
    "              np.split(df_imputed.sample(frac=1, random_state=42), \n",
    "                       [int(.6*len(df_imputed)), int(.8*len(df_imputed))])"
   ]
  },
  {
   "cell_type": "code",
   "execution_count": 46,
   "id": "4ad288f9",
   "metadata": {},
   "outputs": [
    {
     "data": {
      "text/plain": [
       "(1965, 10)"
      ]
     },
     "execution_count": 46,
     "metadata": {},
     "output_type": "execute_result"
    }
   ],
   "source": [
    "df_not_norm_train.shape"
   ]
  },
  {
   "cell_type": "code",
   "execution_count": 47,
   "id": "b6ef8c51",
   "metadata": {},
   "outputs": [],
   "source": [
    "not_norm_prefix = 'preprocessed'\n",
    "write_data_to_s3(df_not_norm_train, not_norm_prefix, 'train')\n",
    "write_data_to_s3(df_not_norm_validation, not_norm_prefix, 'validation')"
   ]
  },
  {
   "cell_type": "markdown",
   "id": "6c88f8be",
   "metadata": {},
   "source": [
    "### Modeling"
   ]
  },
  {
   "cell_type": "markdown",
   "id": "1be72051",
   "metadata": {},
   "source": [
    "#### Option 1: Normalized models"
   ]
  },
  {
   "cell_type": "code",
   "execution_count": 38,
   "id": "ce544388",
   "metadata": {},
   "outputs": [],
   "source": [
    "norm_output_path = 's3://{}/{}/output'.format(bucket, 'linear')"
   ]
  },
  {
   "cell_type": "code",
   "execution_count": 39,
   "id": "873c868a",
   "metadata": {},
   "outputs": [],
   "source": [
    "linear_container = sagemaker.image_uris.retrieve('linear-learner', region)"
   ]
  },
  {
   "cell_type": "code",
   "execution_count": 40,
   "id": "bef0b57b",
   "metadata": {},
   "outputs": [],
   "source": [
    "from sagemaker.inputs import TrainingInput\n",
    "\n",
    "linear_estimator = sagemaker.estimator.Estimator(image_uri = linear_container,\n",
    "                                                role = sagemaker.get_execution_role(),\n",
    "                                                instance_count = 1,\n",
    "                                                instance_type = 'ml.m4.xlarge',\n",
    "#                                                 instance_type = 'local',\n",
    "                                                volume_size = 5,\n",
    "                                                output_path = norm_output_path)\n",
    "\n",
    "linear_estimator.set_hyperparameters(predictor_type = 'binary_classifier')\n",
    "\n",
    "content_type = \"text/csv\"\n",
    "norm_train_input = TrainingInput('s3://{}/{}/{}/'.format(bucket, norm_prefix, 'train'), content_type=content_type)\n",
    "norm_validation_input = TrainingInput('s3://{}/{}/{}/'.format(bucket, norm_prefix, 'validation'), content_type=content_type)"
   ]
  },
  {
   "cell_type": "code",
   "execution_count": 41,
   "id": "3893b44f",
   "metadata": {},
   "outputs": [],
   "source": [
    "linear_metric = 'validation:binary_classification_accuracy'"
   ]
  },
  {
   "cell_type": "code",
   "execution_count": null,
   "id": "d3e0969e",
   "metadata": {},
   "outputs": [],
   "source": [
    "# testing out adding a test channel to the fit() method\n",
    "write_data_to_s3(df_scaled_test, norm_prefix, 'test')\n",
    "norm_test_input = TrainingInput('s3://{}/{}/{}/'.format(bucket, norm_prefix, 'test'), content_type = content_type)\n",
    "linear_estimator.fit({'train': norm_train_input, 'validation': norm_validation_input, 'test': norm_test_input})"
   ]
  },
  {
   "cell_type": "code",
   "execution_count": null,
   "id": "c9145e6a",
   "metadata": {},
   "outputs": [],
   "source": [
    "# try fitting without hyperparameter optimization\n",
    "linear_estimator.fit({'train': norm_train_input, 'validation': norm_validation_input})"
   ]
  },
  {
   "cell_type": "code",
   "execution_count": 104,
   "id": "0d58688c",
   "metadata": {},
   "outputs": [],
   "source": [
    "from sagemaker.parameter import IntegerParameter, ContinuousParameter, CategoricalParameter\n",
    "from sagemaker.tuner import HyperparameterTuner\n",
    "from datetime import datetime\n",
    "\n",
    "linear_hyperparameters = {\n",
    "    'wd': ContinuousParameter(1e-7, 1),\n",
    "    'l1': ContinuousParameter(1e-7, 1),\n",
    "    'learning_rate': ContinuousParameter(1e-5, 1),\n",
    "    'mini_batch_size': IntegerParameter(100, 1000),\n",
    "    'use_bias': CategoricalParameter([True, False]),\n",
    "    'positive_example_weight_mult': ContinuousParameter(1e-5, 1e5)\n",
    "}\n",
    "\n",
    "tuner_job_name = 'linear-learner-tuner-' + datetime.now().strftime(\"%m-%d-%H-%M-%S\")\n",
    "\n",
    "linear_tuner = HyperparameterTuner(estimator = linear_estimator,\n",
    "                                    hyperparameter_ranges = linear_hyperparameters,\n",
    "                                    base_tuning_job_name = tuner_job_name,\n",
    "                                    objective_metric_name = linear_metric, \n",
    "                                    max_jobs = 6,\n",
    "                                    max_parallel_jobs = 2)"
   ]
  },
  {
   "cell_type": "code",
   "execution_count": 105,
   "id": "cd32f154",
   "metadata": {},
   "outputs": [
    {
     "name": "stdout",
     "output_type": "stream",
     "text": [
      "..................................................................................................................................................................!\n"
     ]
    }
   ],
   "source": [
    "linear_tuner.fit({'train': norm_train_input, 'validation': norm_validation_input})"
   ]
  },
  {
   "cell_type": "markdown",
   "id": "d0a87359",
   "metadata": {},
   "source": [
    "#### Option 2: Not normalized models"
   ]
  },
  {
   "cell_type": "code",
   "execution_count": 48,
   "id": "37dbe9c3",
   "metadata": {},
   "outputs": [],
   "source": [
    "output_path = 's3://{}/{}/output'.format(bucket, 'xgboost')"
   ]
  },
  {
   "cell_type": "code",
   "execution_count": 49,
   "id": "9ae497b3",
   "metadata": {},
   "outputs": [],
   "source": [
    "xgboost_container = sagemaker.image_uris.retrieve(\"xgboost\", region, \"1.3-1\")"
   ]
  },
  {
   "cell_type": "code",
   "execution_count": 50,
   "id": "9b2a1f29",
   "metadata": {},
   "outputs": [],
   "source": [
    "from sagemaker.inputs import TrainingInput\n",
    "\n",
    "# construct a SageMaker estimator that calls the xgboost-container\n",
    "xgboost_estimator = sagemaker.estimator.Estimator(image_uri=xgboost_container, \n",
    "                                          role=sagemaker.get_execution_role(),\n",
    "                                          instance_count=1, \n",
    "                                          instance_type='ml.m4.xlarge', \n",
    "                                          volume_size=5, # 5 GB \n",
    "                                          output_path=output_path)\n",
    "\n",
    "xgboost_estimator.set_hyperparameters(num_round=20, objective='binary:logistic')\n",
    "\n",
    "# define the data type and paths to the training and validation datasets\n",
    "content_type = \"text/csv\"\n",
    "train_input = TrainingInput(\"s3://{}/{}/{}/\".format(bucket, not_norm_prefix, 'train'), content_type=content_type)\n",
    "validation_input = TrainingInput(\"s3://{}/{}/{}/\".format(bucket, not_norm_prefix, 'validation'), content_type=content_type)"
   ]
  },
  {
   "cell_type": "code",
   "execution_count": 52,
   "id": "4d500edd",
   "metadata": {},
   "outputs": [
    {
     "name": "stdout",
     "output_type": "stream",
     "text": [
      "2021-08-27 19:25:54 Starting - Starting the training job...\n",
      "2021-08-27 19:26:23 Starting - Launching requested ML instancesProfilerReport-1630092354: InProgress\n",
      "......\n",
      "2021-08-27 19:27:23 Starting - Preparing the instances for training.........\n",
      "2021-08-27 19:28:44 Downloading - Downloading input data\n",
      "2021-08-27 19:28:44 Training - Downloading the training image.....\u001b[34m[2021-08-27 19:29:29.331 ip-10-0-145-17.us-west-2.compute.internal:1 INFO utils.py:27] RULE_JOB_STOP_SIGNAL_FILENAME: None\u001b[0m\n",
      "\u001b[34m[2021-08-27:19:29:29:INFO] Imported framework sagemaker_xgboost_container.training\u001b[0m\n",
      "\u001b[34m[2021-08-27:19:29:29:INFO] Failed to parse hyperparameter objective value binary:logistic to Json.\u001b[0m\n",
      "\u001b[34mReturning the value itself\u001b[0m\n",
      "\u001b[34m[2021-08-27:19:29:29:INFO] No GPUs detected (normal if no gpus installed)\u001b[0m\n",
      "\u001b[34m[2021-08-27:19:29:29:INFO] Running XGBoost Sagemaker in algorithm mode\u001b[0m\n",
      "\u001b[34m[2021-08-27:19:29:29:INFO] Determined delimiter of CSV input is ','\u001b[0m\n",
      "\u001b[34m[2021-08-27:19:29:29:INFO] Determined delimiter of CSV input is ','\u001b[0m\n",
      "\u001b[34m[2021-08-27:19:29:29:INFO] Determined delimiter of CSV input is ','\u001b[0m\n",
      "\u001b[34m[2021-08-27:19:29:29:INFO] Determined delimiter of CSV input is ','\u001b[0m\n",
      "\u001b[34m[2021-08-27:19:29:29:INFO] Single node training.\u001b[0m\n",
      "\u001b[34m[2021-08-27:19:29:29:INFO] Train matrix has 1965 rows and 9 columns\u001b[0m\n",
      "\u001b[34m[2021-08-27:19:29:29:INFO] Validation matrix has 655 rows\u001b[0m\n",
      "\u001b[34m/miniconda3/lib/python3.7/site-packages/xgboost/training.py:20: UserWarning: Old style callback is deprecated.  See: https://xgboost.readthedocs.io/en/latest/python/callbacks.html\n",
      "  warnings.warn(f'Old style callback is deprecated.  See: {link}', UserWarning)\u001b[0m\n",
      "\u001b[34m[19:29:29] WARNING: ../src/learner.cc:1061: Starting in XGBoost 1.3.0, the default evaluation metric used with the objective 'binary:logistic' was changed from 'error' to 'logloss'. Explicitly set eval_metric if you'd like to restore the old behavior.\u001b[0m\n",
      "\u001b[34m[0]#011train-logloss:0.64463#011validation-logloss:0.66623\u001b[0m\n",
      "\u001b[34m[1]#011train-logloss:0.60281#011validation-logloss:0.65703\u001b[0m\n",
      "\u001b[34m[2]#011train-logloss:0.58044#011validation-logloss:0.64897\u001b[0m\n",
      "\u001b[34m[3]#011train-logloss:0.55420#011validation-logloss:0.63853\u001b[0m\n",
      "\u001b[34m[4]#011train-logloss:0.54058#011validation-logloss:0.63198\u001b[0m\n",
      "\u001b[34m[5]#011train-logloss:0.53419#011validation-logloss:0.63163\u001b[0m\n",
      "\u001b[34m[6]#011train-logloss:0.51404#011validation-logloss:0.62683\u001b[0m\n",
      "\u001b[34m[7]#011train-logloss:0.50909#011validation-logloss:0.62824\u001b[0m\n",
      "\u001b[34m[8]#011train-logloss:0.49310#011validation-logloss:0.63561\u001b[0m\n",
      "\u001b[34m[9]#011train-logloss:0.48215#011validation-logloss:0.64310\u001b[0m\n",
      "\u001b[34m[10]#011train-logloss:0.48013#011validation-logloss:0.64420\u001b[0m\n",
      "\u001b[34m[11]#011train-logloss:0.47659#011validation-logloss:0.64317\u001b[0m\n",
      "\u001b[34m[12]#011train-logloss:0.46380#011validation-logloss:0.63970\u001b[0m\n",
      "\u001b[34m[13]#011train-logloss:0.45891#011validation-logloss:0.63665\u001b[0m\n",
      "\u001b[34m[14]#011train-logloss:0.45278#011validation-logloss:0.63705\u001b[0m\n",
      "\u001b[34m[15]#011train-logloss:0.44883#011validation-logloss:0.63763\u001b[0m\n",
      "\u001b[34m[16]#011train-logloss:0.42641#011validation-logloss:0.63858\u001b[0m\n",
      "\u001b[34m[17]#011train-logloss:0.41829#011validation-logloss:0.64265\u001b[0m\n",
      "\u001b[34m[18]#011train-logloss:0.40895#011validation-logloss:0.64083\u001b[0m\n",
      "\u001b[34m[19]#011train-logloss:0.40592#011validation-logloss:0.63918\u001b[0m\n",
      "\n",
      "2021-08-27 19:29:44 Uploading - Uploading generated training model\n",
      "2021-08-27 19:29:44 Completed - Training job completed\n",
      "Training seconds: 68\n",
      "Billable seconds: 68\n"
     ]
    }
   ],
   "source": [
    "# try fitting without hyperparameter tuning\n",
    "xgboost_estimator.fit({'train': train_input, 'validation': validation_input})"
   ]
  },
  {
   "cell_type": "code",
   "execution_count": 119,
   "id": "e4bfe993",
   "metadata": {},
   "outputs": [
    {
     "name": "stdout",
     "output_type": "stream",
     "text": [
      "......................................................................................................................................................................!\n"
     ]
    }
   ],
   "source": [
    "from sagemaker.parameter import IntegerParameter, ContinuousParameter, CategoricalParameter\n",
    "from sagemaker.tuner import HyperparameterTuner\n",
    "from datetime import datetime\n",
    "\n",
    "hyperparameter_ranges = {\n",
    "    'alpha': ContinuousParameter(0, 1000),\n",
    "    'min_child_weight': ContinuousParameter(0, 120),\n",
    "    'subsample': ContinuousParameter(0.5, 1),\n",
    "    'eta': ContinuousParameter(0.1, 0.5),\n",
    "    'num_round': IntegerParameter(1, 4000)\n",
    "}\n",
    "\n",
    "tuner_job_name = 'xgboost-tuner-' + datetime.now().strftime(\"%m-%d-%H-%M-%S\")\n",
    "\n",
    "tuner = HyperparameterTuner(estimator=xgboost_estimator, base_tuning_job_name=tuner_job_name,\n",
    "                                objective_metric_name=metric,\n",
    "                                hyperparameter_ranges=hyperparameter_ranges,\n",
    "                                max_jobs=6, max_parallel_jobs=2)\n",
    "\n",
    "tuner.fit({'train': train_input, 'validation': validation_input})"
   ]
  },
  {
   "cell_type": "code",
   "execution_count": null,
   "id": "b6db92c9",
   "metadata": {},
   "outputs": [],
   "source": []
  }
 ],
 "metadata": {
  "kernelspec": {
   "display_name": "conda_python3",
   "language": "python",
   "name": "conda_python3"
  },
  "language_info": {
   "codemirror_mode": {
    "name": "ipython",
    "version": 3
   },
   "file_extension": ".py",
   "mimetype": "text/x-python",
   "name": "python",
   "nbconvert_exporter": "python",
   "pygments_lexer": "ipython3",
   "version": "3.6.13"
  }
 },
 "nbformat": 4,
 "nbformat_minor": 5
}
